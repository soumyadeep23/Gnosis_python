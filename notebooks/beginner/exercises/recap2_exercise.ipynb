{
 "cells": [
  {
   "cell_type": "markdown",
   "metadata": {},
   "source": [
    "# 1. [Rock-paper-scissors](https://en.wikipedia.org/wiki/Rock%E2%80%93paper%E2%80%93scissors) \n",
    "Implement `rock_paper_scissors` function which takes the player's rock-paper-scissors choice as an input (as integer), randomly selects the choice of the computer and reveals it (prints) and finally announces (prints) the result. The function should return `PLAYER_WINS`, `COMPUTER_WINS` or `TIE`."
   ]
  },
  {
   "cell_type": "code",
   "execution_count": 7,
   "metadata": {
    "editable": false
   },
   "outputs": [],
   "source": [
    "# Constants, you should use these in your implementation\n",
    "ROCK = 1\n",
    "PAPER = 2\n",
    "SCISSORS = 3\n",
    "\n",
    "PLAYER_WINS = 'Player wins!! Woop woop!'\n",
    "COMPUTER_WINS = 'Robocop wins :-('\n",
    "TIE = \"It's a tie!\""
   ]
  },
  {
   "cell_type": "code",
   "execution_count": 8,
   "metadata": {},
   "outputs": [],
   "source": [
    "import random\n",
    "def rock_paper_scissors(p_choice):\n",
    "    result = ''\n",
    "    c_choice = random.randrange(1,3)\n",
    "    if p_choice == c_choice:\n",
    "        result = TIE\n",
    "    elif p_choice == ROCK:\n",
    "        if c_choice == SCISSORS:\n",
    "            result = PLAYER_WINS\n",
    "        else:\n",
    "            result = COMPUTER_WINS\n",
    "    elif p_choice == PAPER:\n",
    "        if c_choice == ROCK:\n",
    "            result = PLAYER_WINS\n",
    "        else:\n",
    "            result = COMPUTER_WINS\n",
    "    elif p_choice == SCISSORS:\n",
    "        if c_choice == PAPER:\n",
    "            result = PLAYER_WINS\n",
    "        else:\n",
    "            result = COMPUTER_WINS\n",
    "    return result"
   ]
  },
  {
   "cell_type": "markdown",
   "metadata": {},
   "source": [
    "Once you have finished the implementation of `rock_paper_scissors` function, you can check if it works as expected by playing the game:"
   ]
  },
  {
   "cell_type": "code",
   "execution_count": 9,
   "metadata": {},
   "outputs": [
    {
     "name": "stdout",
     "output_type": "stream",
     "text": [
      "Welcome to play rock-paper-scissors\n",
      "The options are:\n",
      "rock: 1\n",
      "paper: 2\n",
      "scissors: 3\n",
      "Invalid choice\n",
      "Invalid choice\n",
      "Invalid choice\n",
      "Invalid choice\n",
      "Robocop wins :-(\n"
     ]
    }
   ],
   "source": [
    "def play_rps():\n",
    "    print('Welcome to play rock-paper-scissors')\n",
    "    print('The options are:\\nrock: 1\\npaper: 2\\nscissors: 3')\n",
    "\n",
    "    result = TIE\n",
    "    while result == TIE:\n",
    "        player_choice = input('Give your choice\\n')\n",
    "        \n",
    "        if not player_choice in ['1', '2', '3']:\n",
    "            print('Invalid choice')\n",
    "            continue\n",
    "            \n",
    "        result = rock_paper_scissors(int(player_choice))\n",
    "    print(result)\n",
    "        \n",
    "if __name__ == '__main__':\n",
    "    play_rps()"
   ]
  },
  {
   "cell_type": "markdown",
   "metadata": {},
   "source": [
    "If you copy the code from above cells into a single .py file, you have a rock-paper-scissor command line game!"
   ]
  },
  {
   "cell_type": "markdown",
   "metadata": {},
   "source": [
    "# 2. Data analyzer\n",
    "Implement `DataAnalyzer` class which has the following specification:\n",
    "* `__init__` takes one argument which is a path to the file to be analyzed\n",
    "* `total_samples` method returns the amount of the data samples in the file\n",
    "* `average` method returns the average of the data samples in the file\n",
    "* `median` method returns the median of the data samples in the file\n",
    "* `max_value` method returns the maximum value of the data samples in the file\n",
    "* `min_value` method returns the minimum value of the data samples in the file\n",
    "* `create_report` method returns a report (string) of the file in the following format:\n",
    "\n",
    "```\n",
    "Report for <filename>\n",
    "samples: x\n",
    "average: x.xx\n",
    "median: xx.xx\n",
    "max: xx.xx\n",
    "min: x.xx\n",
    "```\n",
    " \n",
    "Note that average, median, max, and min should be presented with two decimal places in the report.\n",
    "\n",
    "The format of the input file is comma separated and the file contains only numeric values.\n",
    "\n",
    "If there is no data in the input file (empty file), `NoData` exception should be raised. Note: `NoData` should be your custom exception."
   ]
  },
  {
   "cell_type": "code",
   "execution_count": 37,
   "metadata": {},
   "outputs": [],
   "source": [
    "\n",
    "class NoData(Exception):\n",
    "    pass\n",
    "\n",
    "\n",
    "class DataAnalyzer:\n",
    "    def __init__(self,data_file):\n",
    "        self.data_file = data_file\n",
    "        try:\n",
    "            assert os.stat(self.data_file).st_size != 0\n",
    "        except:\n",
    "            raise NoData\n",
    "        self.max = 0\n",
    "        self.min = 0\n",
    "        self.avg = 0.0\n",
    "        self.med = 0.0\n",
    "        self.d_l = []\n",
    "        data = open(self.data_file,\"r\")\n",
    "        data_list = data.read()\n",
    "        self.d_l = data_list.replace(',', ' ').split()\n",
    "        self.d_l = list(map(int,self.d_l))\n",
    "        data.close()\n",
    "        \n",
    "\n",
    "    def total_samples(self):\n",
    "        self.sample = len(self.d_l)\n",
    "        return self.sample\n",
    "\n",
    "    def average(self):\n",
    "        sum = 0\n",
    "        for i in self.d_l:\n",
    "            sum += i\n",
    "        self.avg = sum/len(self.d_l)\n",
    "        return self.avg    \n",
    "\n",
    "    def median(self):\n",
    "        l = len(self.d_l)\n",
    "        self.d_l.sort()\n",
    "        if l%2 == 0:\n",
    "            m1 = self.d_l[l//2]\n",
    "            m2 = self.d_l[(l // 2) - 1]\n",
    "            print(m1, m2)\n",
    "            self.med = float((m1+m2)/2)\n",
    "        else:\n",
    "            self.med = float(self.d_l[l//2])\n",
    "        print(self.med)\n",
    "        return self.med\n",
    "\n",
    "    def max_value(self):\n",
    "        for i in self.d_l:\n",
    "            if self.max < i:\n",
    "                self.max = i\n",
    "        return self.max\n",
    "\n",
    "    def min_value(self):\n",
    "        self.min = int(self.d_l[0])\n",
    "        for i in self.d_l:\n",
    "            if self.min > i:\n",
    "                self.min = i\n",
    "        return self.min\n",
    "\n",
    "    def create_report(self):\n",
    "        r = 'Report for random_data.txt\\nsamples: {}\\naverage: {:.2f}\\nmedian: {:.2f}\\nmax: {:.2f}\\nmin: {:.2f}'.format(self.sample,self.avg,self.med,self.max,self.min)\n",
    "        return r\n",
    "\n",
    "    "
   ]
  },
  {
   "cell_type": "markdown",
   "metadata": {},
   "source": [
    "Let's verify it works."
   ]
  },
  {
   "cell_type": "code",
   "execution_count": 38,
   "metadata": {
    "editable": false
   },
   "outputs": [
    {
     "name": "stdout",
     "output_type": "stream",
     "text": [
      "49 46\n",
      "47.5\n",
      "Report for random_data.txt\n",
      "samples: 20\n",
      "average: 49.35\n",
      "median: 47.50\n",
      "max: 94.00\n",
      "min: 4.00\n"
     ]
    }
   ],
   "source": [
    "import os\n",
    "WORKING_DIR = os.getcwd()\n",
    "DATA_DIR = os.path.join(os.path.dirname(WORKING_DIR), 'data')\n",
    "DATA_FILE = os.path.join(DATA_DIR, 'random_data.txt')\n",
    "\n",
    "da = DataAnalyzer(DATA_FILE)\n",
    "\n",
    "assert da.total_samples() == 20\n",
    "assert da.average() == 49.35\n",
    "assert da.median() == 47.50\n",
    "assert da.max_value() == 94\n",
    "assert da.min_value() == 4\n",
    "\n",
    "report = da.create_report()\n",
    "print(report)\n",
    "\n",
    "expected_report = (\n",
    "'Report for random_data.txt\\n'\n",
    "'samples: 20\\n'\n",
    "'average: 49.35\\n'\n",
    "'median: 47.50\\n'\n",
    "'max: 94.00\\n'\n",
    "'min: 4.00')\n",
    "assert report == expected_report "
   ]
  },
  {
   "cell_type": "markdown",
   "metadata": {},
   "source": [
    "Let's check that it raises `NoData` with empty file."
   ]
  },
  {
   "cell_type": "code",
   "execution_count": 3,
   "metadata": {
    "editable": false
   },
   "outputs": [
    {
     "name": "stdout",
     "output_type": "stream",
     "text": [
      "All ok :)\n"
     ]
    }
   ],
   "source": [
    "EMPTY_FILE = os.path.join(DATA_DIR, 'empty_file.txt')\n",
    "try:\n",
    "    da_empty = DataAnalyzer(EMPTY_FILE)\n",
    "except NoData:\n",
    "    print('All ok :)')\n",
    "else: # There was no exception\n",
    "    assert False"
   ]
  }
 ],
 "metadata": {
  "kernelspec": {
   "display_name": "Python 3.9.2 ('.venv': venv)",
   "language": "python",
   "name": "python3"
  },
  "language_info": {
   "codemirror_mode": {
    "name": "ipython",
    "version": 3
   },
   "file_extension": ".py",
   "mimetype": "text/x-python",
   "name": "python",
   "nbconvert_exporter": "python",
   "pygments_lexer": "ipython3",
   "version": "3.9.2"
  },
  "vscode": {
   "interpreter": {
    "hash": "bc643e8215558eac47957bef8e0abe6aee0301980adb3d4df1c8103cd9498ddf"
   }
  }
 },
 "nbformat": 4,
 "nbformat_minor": 2
}
